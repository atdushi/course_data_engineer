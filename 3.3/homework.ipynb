{
 "cells": [
  {
   "cell_type": "code",
   "execution_count": 171,
   "id": "073b1982",
   "metadata": {},
   "outputs": [],
   "source": [
    "import pyspark.sql.types as T\n",
    "import pyspark.sql.functions as F\n",
    "import datetime\n",
    "import time\n",
    "import math\n",
    "from pyspark.sql.window import Window"
   ]
  },
  {
   "cell_type": "code",
   "execution_count": 156,
   "id": "fedb1263",
   "metadata": {},
   "outputs": [],
   "source": [
    "spark = SparkSession.builder.master(\"local\") \\\n",
    "                    .appName(\"Homework\") \\\n",
    "                    .config(\"spark.jars\", \"~/spark-3.3.1-bin-hadoop3/jars/postgresql-42.5.0.jar\") \\\n",
    "                    .config(\"spark.driver.bindAddress\", \"localhost\") \\\n",
    "                    .config(\"spark.ui.port\", \"4040\") \\\n",
    "                    .getOrCreate()"
   ]
  },
  {
   "cell_type": "code",
   "execution_count": 157,
   "id": "d491a6d8",
   "metadata": {},
   "outputs": [],
   "source": [
    "schema_web = T.StructType([\n",
    "                T.StructField(\"id\", T.IntegerType(), True),\n",
    "                T.StructField(\"timestamp\", T.LongType(), True),    \n",
    "                T.StructField(\"type\", T.StringType(), True),\n",
    "                T.StructField(\"page_id\", T.IntegerType(), True),                \n",
    "                T.StructField(\"tag\", T.ArrayType(T.StringType()), True),\n",
    "                T.StructField(\"sign\", T.BooleanType(), True)\n",
    "])\n",
    "\n",
    "schema_lk = T.StructType([\n",
    "                T.StructField(\"id\", T.IntegerType(), False),\n",
    "                T.StructField(\"user_id\", T.IntegerType(), False),    \n",
    "                T.StructField(\"full_name\", T.StringType(), True),\n",
    "                T.StructField(\"birth_date\", T.DateType(), True),\n",
    "                T.StructField(\"create_date\", T.DateType(), True)\n",
    "])"
   ]
  },
  {
   "cell_type": "code",
   "execution_count": 158,
   "id": "2e4fc78b",
   "metadata": {},
   "outputs": [],
   "source": [
    "# 2000-01-01...\n",
    "\n",
    "data_web = [\n",
    "    (1, 946683757, 'visit', 1, ['политика', 'спорт'], True),\n",
    "    (1, 946687357, 'click', 2, ['спорт'], True),\n",
    "    (3, 946784557, 'scroll', 3, ['медицина'], True),\n",
    "    (4, 946975357, 'move', 3, ['медицина'], False)\n",
    "]\n",
    "\n",
    "data_lk = [\n",
    "    (1, 1, 'Логинов Алексей Алексеевич', datetime.datetime(1990, 7, 5), datetime.datetime.strptime('1999-04-01', \"%Y-%m-%d\").date()),\n",
    "    (2, 2, 'Калугин Максим Львович', datetime.datetime(1981, 3, 14),datetime.datetime.strptime('1999-05-19', \"%Y-%m-%d\").date()),\n",
    "    (3, 3, 'Кудрявцева Варвара Денисовна', datetime.datetime(1982, 8, 15),datetime.datetime.strptime('1999-09-05', \"%Y-%m-%d\").date()),\n",
    "    (4, 4, 'Титова Василиса Сергеевна', datetime.datetime(1985, 4, 25),datetime.datetime.strptime('1999-12-01', \"%Y-%m-%d\").date()),\n",
    "    (5, 5, 'Смирнова Екатерина Львовна', datetime.datetime(1987, 4, 13),datetime.datetime.strptime('1999-01-01', \"%Y-%m-%d\").date())\n",
    "]\n",
    "\n",
    "#columns = [\"id\",\"timestamp\",\"type\",\"page_id\",\"tag\",\"sign\"]\n",
    "df_web = spark.createDataFrame(data = data_web, schema = schema_web)\n",
    "df_lk = spark.createDataFrame(data = data_lk, schema = schema_lk)"
   ]
  },
  {
   "cell_type": "code",
   "execution_count": 159,
   "id": "f2bdec80",
   "metadata": {},
   "outputs": [],
   "source": [
    "from SlavicNames.parse_fio import gender_parse\n",
    "\n",
    "def get_gender(name):\n",
    "    return gender_parse(name).get('gender')\n",
    "\n",
    "getGenderUDF = F.udf(lambda h: get_gender(h))\n",
    "\n",
    "df_lk = df_lk.withColumn('gender', getGenderUDF(F.col('full_name')))"
   ]
  },
  {
   "cell_type": "code",
   "execution_count": 160,
   "id": "375f115f",
   "metadata": {},
   "outputs": [],
   "source": [
    "df_web = df_web.select(*[i for i in df_web.columns if i != \"timestamp\"],\n",
    "                    F.from_unixtime(\"timestamp\").alias(\"event_time\"))"
   ]
  },
  {
   "cell_type": "code",
   "execution_count": 161,
   "id": "75af2ce8",
   "metadata": {},
   "outputs": [
    {
     "name": "stdout",
     "output_type": "stream",
     "text": [
      "root\n",
      " |-- id: integer (nullable = true)\n",
      " |-- type: string (nullable = true)\n",
      " |-- page_id: integer (nullable = true)\n",
      " |-- tag: array (nullable = true)\n",
      " |    |-- element: string (containsNull = true)\n",
      " |-- sign: boolean (nullable = true)\n",
      " |-- event_time: string (nullable = true)\n",
      "\n",
      "root\n",
      " |-- id: integer (nullable = false)\n",
      " |-- user_id: integer (nullable = false)\n",
      " |-- full_name: string (nullable = true)\n",
      " |-- birth_date: date (nullable = true)\n",
      " |-- create_date: date (nullable = true)\n",
      " |-- gender: string (nullable = true)\n",
      "\n"
     ]
    }
   ],
   "source": [
    "df_web.printSchema()\n",
    "df_lk.printSchema()"
   ]
  },
  {
   "cell_type": "code",
   "execution_count": 162,
   "id": "c4aa6e02",
   "metadata": {},
   "outputs": [
    {
     "name": "stdout",
     "output_type": "stream",
     "text": [
      "+---+-----------+\n",
      "| id|event_count|\n",
      "+---+-----------+\n",
      "|  1|          2|\n",
      "|  3|          1|\n",
      "|  4|          1|\n",
      "+---+-----------+\n",
      "\n"
     ]
    }
   ],
   "source": [
    "# Вывести топ-5 самых активных посетителей сайта\n",
    "\n",
    "# tmp = df_web.groupBy(\"id\") \\\n",
    "#         .count() \\\n",
    "#         .orderBy(F.col(\"count\").desc())\n",
    "\n",
    "tmp = df_web.groupBy(\"id\") \\\n",
    "        .agg(F.count(\"*\").alias(\"event_count\")) \\\n",
    "        .orderBy(\"event_count\", ascending = False)\n",
    "    \n",
    "tmp.show(5)"
   ]
  },
  {
   "cell_type": "code",
   "execution_count": 163,
   "id": "16601cda",
   "metadata": {},
   "outputs": [
    {
     "data": {
      "text/plain": [
       "75.0"
      ]
     },
     "execution_count": 163,
     "metadata": {},
     "output_type": "execute_result"
    }
   ],
   "source": [
    "# Посчитать процент посетителей, у которых есть ЛК\n",
    "\n",
    "df_web.filter(df_web.sign == True).count() / df_web.count() * 100"
   ]
  },
  {
   "cell_type": "code",
   "execution_count": 164,
   "id": "6c0bb835",
   "metadata": {},
   "outputs": [
    {
     "name": "stdout",
     "output_type": "stream",
     "text": [
      "+---+---+\n",
      "| id|avg|\n",
      "+---+---+\n",
      "|  1|2.0|\n",
      "|  3|1.0|\n",
      "|  4|1.0|\n",
      "+---+---+\n",
      "\n"
     ]
    }
   ],
   "source": [
    "# Вывести топ-5 страниц сайта по показателю среднего кол-ва кликов на данной странице\n",
    "\n",
    "tmp.groupBy(\"id\") \\\n",
    "    .agg(F.avg(\"event_count\").alias(\"avg\")) \\\n",
    "    .orderBy(F.col(\"avg\").desc()) \\\n",
    "    .show(5)"
   ]
  },
  {
   "cell_type": "code",
   "execution_count": 165,
   "id": "32665ff7",
   "metadata": {},
   "outputs": [
    {
     "name": "stdout",
     "output_type": "stream",
     "text": [
      "+---+------+-------+-----------------+-----+-------------------+-----------+\n",
      "| id|  type|page_id|              tag| sign|         event_time|hour_window|\n",
      "+---+------+-------+-----------------+-----+-------------------+-----------+\n",
      "|  1| visit|      1|[политика, спорт]| true|2000-01-01 02:42:37|        0-4|\n",
      "|  1| click|      2|          [спорт]| true|2000-01-01 03:42:37|        0-4|\n",
      "|  3|scroll|      3|       [медицина]| true|2000-01-02 06:42:37|        4-8|\n",
      "|  4|  move|      3|       [медицина]|false|2000-01-04 11:42:37|       8-12|\n",
      "+---+------+-------+-----------------+-----+-------------------+-----------+\n",
      "\n"
     ]
    }
   ],
   "source": [
    "# Добавьте столбец к фрейму данных со значением временного диапазона в рамках суток с размером окна – 4 часа(0-4, 4-8, 8-12 и т.д.)\n",
    "\n",
    "# через udf\n",
    "@F.udf(T.StringType())\n",
    "def get_hour_window(hour):\n",
    "    step = 4\n",
    "    for x in range(0, 24, step):\n",
    "        if hour < x:\n",
    "            return f'{x-step}-{x}'\n",
    "    return \"20-0\"\n",
    "\n",
    "df_web = df_web.withColumn(\"hour\", F.hour(F.col(\"event_time\"))) \\\n",
    "        .withColumn(\"hour_window\", get_hour_window(F.col(\"hour\"))) \\\n",
    "        .select(*[i for i in df_web.columns if i != \"hour\"], \"hour_window\")\n",
    "\n",
    "df_web.show()\n",
    "\n",
    "# без udf можно типа F.when(F.col(\"hour\").between(0, 4), \"0-4\").otherwise(\"\")\n"
   ]
  },
  {
   "cell_type": "code",
   "execution_count": 166,
   "id": "84e43d82",
   "metadata": {},
   "outputs": [
    {
     "name": "stdout",
     "output_type": "stream",
     "text": [
      "+-----------+---+\n",
      "|hour_window|cnt|\n",
      "+-----------+---+\n",
      "|        0-4|  2|\n",
      "+-----------+---+\n",
      "only showing top 1 row\n",
      "\n"
     ]
    }
   ],
   "source": [
    "# Выведите временной промежуток на основе предыдущего задания, в течение которого было больше всего активностей на сайте.\n",
    "\n",
    "df_web \\\n",
    "    .groupBy('hour_window') \\\n",
    "    .agg(F.count('hour_window').alias(\"cnt\")) \\\n",
    "    .orderBy(F.col(\"cnt\").desc()) \\\n",
    "    .show(1)"
   ]
  },
  {
   "cell_type": "code",
   "execution_count": 167,
   "id": "eb1a26ae",
   "metadata": {},
   "outputs": [
    {
     "name": "stdout",
     "output_type": "stream",
     "text": [
      "+--------------------------+\n",
      "|full_name                 |\n",
      "+--------------------------+\n",
      "|Логинов Алексей Алексеевич|\n",
      "+--------------------------+\n",
      "\n"
     ]
    }
   ],
   "source": [
    "# Вывести фамилии посетителей, которые читали хотя бы одну новость про спорт.\n",
    "\n",
    "(\n",
    "    df_web\n",
    "    .filter(F.array_contains(F.col(\"tag\"), \"спорт\"))\n",
    "    .join(df_lk, df_web.id == df_lk.user_id, 'inner')\n",
    "    .select(df_lk.full_name)\n",
    "    .distinct()\n",
    "    .show(truncate = False)\n",
    ")"
   ]
  },
  {
   "cell_type": "code",
   "execution_count": 168,
   "id": "6936882c",
   "metadata": {},
   "outputs": [
    {
     "name": "stdout",
     "output_type": "stream",
     "text": [
      "+----+-------------------+-----------+\n",
      "|diff|         visit_date|create_date|\n",
      "+----+-------------------+-----------+\n",
      "| 275|2000-01-01 02:42:37| 1999-04-01|\n",
      "+----+-------------------+-----------+\n",
      "\n"
     ]
    }
   ],
   "source": [
    "# Выведите 10% ЛК, у которых максимальная разница между датой создания ЛК и датой последнего посещения.\n",
    "\n",
    "df_all = df_lk.alias(\"lk\").join(df_web.alias(\"web\"),\n",
    "                                    on = [F.col(\"lk.user_id\") == F.col(\"web.id\")],\n",
    "                                    how = \"inner\")\n",
    "\n",
    "total = df_all.count()\n",
    " \n",
    "(\n",
    "    df_all\n",
    "    .filter(F.col('type') == 'visit')\n",
    "    .withColumn('diff', F.datediff(F.col(\"event_time\"), F.col(\"create_date\")))\n",
    "    .select('diff', F.col(\"event_time\").alias('visit_date'), \"create_date\")\n",
    "    .orderBy(F.col(\"diff\").desc())\n",
    "    .show(math.ceil(total * 10 / 100))\n",
    ")\n"
   ]
  },
  {
   "cell_type": "code",
   "execution_count": 178,
   "id": "452dfb02",
   "metadata": {},
   "outputs": [
    {
     "name": "stdout",
     "output_type": "stream",
     "text": [
      "+------+-------+\n",
      "|gender|page_id|\n",
      "+------+-------+\n",
      "|     f|      3|\n",
      "|     m|      2|\n",
      "+------+-------+\n",
      "\n"
     ]
    }
   ],
   "source": [
    "# Вывести топ-5 страниц, которые чаще всего посещают мужчины и топ-5 страниц, которые посещают чаще женщины.\n",
    "\n",
    "(\n",
    "    df_all\n",
    "        .select(\"page_id\", \"gender\")\n",
    "        .groupBy(\"page_id\", \"gender\")\n",
    "        .count()\n",
    "        .withColumn(\"max_cnt\", F.max(F.col(\"count\")).over(Window.partitionBy(\"gender\")))\n",
    "        .filter(\"count = max_cnt\")\n",
    "        .dropDuplicates([\"gender\"])\n",
    "        .select(\"gender\", \"page_id\")\n",
    "        .show(100)\n",
    ")"
   ]
  },
  {
   "cell_type": "code",
   "execution_count": 133,
   "id": "836b8d2b",
   "metadata": {},
   "outputs": [],
   "source": [
    "# df.show(), df2.show()"
   ]
  },
  {
   "cell_type": "code",
   "execution_count": null,
   "id": "ce6f5790",
   "metadata": {},
   "outputs": [],
   "source": [
    "url = \"jdbc:postgresql://localhost:5432/postgres\"\n",
    "creds = {\"user\": \"postgres\", \"password\": \"myPassword\"}\n",
    "\n",
    "df_web = spark.read.jdbc(url, \"de_sprint.actions\", properties = creds)\n",
    "df_lk = spark.read.jdbc(url, \"de_sprint.profiles\", properties = creds)\n",
    "\n",
    "df_web.printSchema()\n",
    "df_lk.printSchema()"
   ]
  },
  {
   "cell_type": "code",
   "execution_count": null,
   "id": "3d08921d",
   "metadata": {},
   "outputs": [],
   "source": [
    "# Создайте витрину данных в Postgres со следующим содержанием\n",
    "#  1. Id посетителя\n",
    "#  2. Возраст посетителя\n",
    "#  3. Пол посетителя (постарайтесь описать логику вычисления пола в отдельной пользовательской функции)\n",
    "#  4. Любимая тематика новостей\n",
    "#  5. Любимый временной диапазон посещений\n",
    "#  6. Id личного кабинета\n",
    "#  7. Разница в днях между созданием ЛК и датой последнего посещения. (-1 если ЛК нет)\n",
    "#  8. Общее кол-во посещений сайта\n",
    "#  9. Средняя длина сессии(сессией считаем временной промежуток, который охватывает последовательность событий, которые происходили подряд с разницей не более 5 минут).\n",
    "# 10. Среднее кол-во активностей в рамках одной сессии\n",
    "\n",
    "df_web.select(\"id\").distinct().show()"
   ]
  },
  {
   "cell_type": "code",
   "execution_count": null,
   "id": "4835fd0c",
   "metadata": {},
   "outputs": [],
   "source": []
  }
 ],
 "metadata": {
  "kernelspec": {
   "display_name": "Python 3 (ipykernel)",
   "language": "python",
   "name": "python3"
  },
  "language_info": {
   "codemirror_mode": {
    "name": "ipython",
    "version": 3
   },
   "file_extension": ".py",
   "mimetype": "text/x-python",
   "name": "python",
   "nbconvert_exporter": "python",
   "pygments_lexer": "ipython3",
   "version": "3.10.6"
  }
 },
 "nbformat": 4,
 "nbformat_minor": 5
}
