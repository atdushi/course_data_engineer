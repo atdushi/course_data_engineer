{
 "cells": [
  {
   "cell_type": "code",
   "execution_count": 1,
   "id": "073b1982",
   "metadata": {},
   "outputs": [],
   "source": [
    "import pyspark.sql.types as T\n",
    "import pyspark.sql.functions as F\n",
    "import datetime\n",
    "import time\n",
    "import math"
   ]
  },
  {
   "cell_type": "code",
   "execution_count": 2,
   "id": "fedb1263",
   "metadata": {},
   "outputs": [
    {
     "name": "stdout",
     "output_type": "stream",
     "text": [
      "22/11/20 20:42:41 WARN SparkSession: Using an existing Spark session; only runtime SQL configurations will take effect.\n"
     ]
    }
   ],
   "source": [
    "spark = SparkSession.builder.master(\"local\") \\\n",
    "                    .appName(\"Homework\") \\\n",
    "                    .config(\"spark.jars\", \"~/spark-3.3.1-bin-hadoop3/jars/postgresql-42.5.0.jar\") \\\n",
    "                    .config(\"spark.driver.bindAddress\", \"localhost\") \\\n",
    "                    .config(\"spark.ui.port\", \"4040\") \\\n",
    "                    .getOrCreate()"
   ]
  },
  {
   "cell_type": "code",
   "execution_count": 3,
   "id": "d491a6d8",
   "metadata": {},
   "outputs": [],
   "source": [
    "schema = T.StructType([\n",
    "                T.StructField(\"id\", T.IntegerType(), True),\n",
    "                T.StructField(\"timestamp\", T.LongType(), True),    \n",
    "                T.StructField(\"type\", T.StringType(), True),\n",
    "                T.StructField(\"page_id\", T.IntegerType(), True),                \n",
    "                T.StructField(\"tag\", T.ArrayType(T.StringType()), True),\n",
    "                T.StructField(\"sign\", T.BooleanType(), True)\n",
    "])"
   ]
  },
  {
   "cell_type": "code",
   "execution_count": 4,
   "id": "2e4fc78b",
   "metadata": {},
   "outputs": [],
   "source": [
    "# 2000-01-01...\n",
    "\n",
    "data = [(1, 946683757, 'visit', 1, ['политика', 'спорт'], True),\n",
    "        (1, 946687357, 'click', 2, ['спорт'], True),\n",
    "        (3, 946784557, 'scroll', 3, ['медицина'], True),\n",
    "        (4, 946975357, 'move', 3, ['медицина'], False)\n",
    "]\n",
    "\n",
    "#columns = [\"id\",\"timestamp\",\"type\",\"page_id\",\"tag\",\"sign\"]\n",
    "df = spark.createDataFrame(data = data, schema = schema)"
   ]
  },
  {
   "cell_type": "code",
   "execution_count": 5,
   "id": "75af2ce8",
   "metadata": {},
   "outputs": [
    {
     "name": "stdout",
     "output_type": "stream",
     "text": [
      "root\n",
      " |-- id: integer (nullable = true)\n",
      " |-- timestamp: long (nullable = true)\n",
      " |-- type: string (nullable = true)\n",
      " |-- page_id: integer (nullable = true)\n",
      " |-- tag: array (nullable = true)\n",
      " |    |-- element: string (containsNull = true)\n",
      " |-- sign: boolean (nullable = true)\n",
      "\n"
     ]
    }
   ],
   "source": [
    "df.printSchema()"
   ]
  },
  {
   "cell_type": "code",
   "execution_count": 6,
   "id": "c4aa6e02",
   "metadata": {},
   "outputs": [
    {
     "name": "stderr",
     "output_type": "stream",
     "text": [
      "\r",
      "[Stage 0:>                                                          (0 + 8) / 8]\r"
     ]
    },
    {
     "name": "stdout",
     "output_type": "stream",
     "text": [
      "+---+---+\n",
      "| id|cnt|\n",
      "+---+---+\n",
      "|  1|  2|\n",
      "|  3|  1|\n",
      "|  4|  1|\n",
      "+---+---+\n",
      "\n"
     ]
    },
    {
     "name": "stderr",
     "output_type": "stream",
     "text": [
      "\r",
      "                                                                                \r"
     ]
    }
   ],
   "source": [
    "# Вывести топ-5 самых активных посетителей сайта\n",
    "\n",
    "tmp = df.groupBy(\"id\") \\\n",
    "        .agg(F.count(\"id\").alias(\"cnt\")) \\\n",
    "        .orderBy(F.col(\"cnt\").desc())\n",
    "\n",
    "tmp.show(5)"
   ]
  },
  {
   "cell_type": "code",
   "execution_count": 7,
   "id": "16601cda",
   "metadata": {},
   "outputs": [
    {
     "data": {
      "text/plain": [
       "75.0"
      ]
     },
     "execution_count": 7,
     "metadata": {},
     "output_type": "execute_result"
    }
   ],
   "source": [
    "# Посчитать процент посетителей, у которых есть ЛК\n",
    "\n",
    "df.filter(df.sign == True).count() / df.count() * 100"
   ]
  },
  {
   "cell_type": "code",
   "execution_count": 8,
   "id": "6c0bb835",
   "metadata": {},
   "outputs": [
    {
     "name": "stdout",
     "output_type": "stream",
     "text": [
      "+---+---+\n",
      "| id|avg|\n",
      "+---+---+\n",
      "|  1|2.0|\n",
      "|  3|1.0|\n",
      "|  4|1.0|\n",
      "+---+---+\n",
      "\n"
     ]
    }
   ],
   "source": [
    "# Вывести топ-5 страниц сайта по показателю среднего кол-ва кликов на данной странице\n",
    "\n",
    "tmp.groupBy(\"id\") \\\n",
    "    .agg(F.avg(\"cnt\").alias(\"avg\")) \\\n",
    "    .orderBy(F.col(\"avg\").desc()) \\\n",
    "    .show(5)"
   ]
  },
  {
   "cell_type": "code",
   "execution_count": 9,
   "id": "32665ff7",
   "metadata": {},
   "outputs": [
    {
     "name": "stdout",
     "output_type": "stream",
     "text": [
      "+---+---------+------+-------+-----------------+-----+----+-----------+\n",
      "| id|timestamp|  type|page_id|              tag| sign|hour|hour_window|\n",
      "+---+---------+------+-------+-----------------+-----+----+-----------+\n",
      "|  1|946683757| visit|      1|[политика, спорт]| true|   2|        0-4|\n",
      "|  1|946687357| click|      2|          [спорт]| true|   3|        0-4|\n",
      "|  3|946784557|scroll|      3|       [медицина]| true|   6|        4-8|\n",
      "|  4|946975357|  move|      3|       [медицина]|false|  11|       8-12|\n",
      "+---+---------+------+-------+-----------------+-----+----+-----------+\n",
      "\n"
     ]
    }
   ],
   "source": [
    "# Добавьте столбец к фрейму данных со значением временного диапазона в рамках суток с размером окна – 4 часа(0-4, 4-8, 8-12 и т.д.)\n",
    "\n",
    "# через udf\n",
    "def get_hour_window(hour):\n",
    "    step = 4\n",
    "    for x in range(0, 24, step):\n",
    "        if hour < x:\n",
    "            return f'{x-step}-{x}'\n",
    "    return \"20-0\"\n",
    "\n",
    "convertUDF = F.udf(lambda h: get_hour_window(h))\n",
    "\n",
    "df = df.withColumn(\"hour\", F.hour(F.from_unixtime(F.col(\"timestamp\")))) \\\n",
    "        .withColumn(\"hour_window\", convertUDF(F.col(\"hour\")))\n",
    "\n",
    "df.show()\n",
    "\n",
    "# без udf можно типа F.when(F.col(\"hour\").between(0, 4), \"0-4\").otherwise(\"\")\n"
   ]
  },
  {
   "cell_type": "code",
   "execution_count": 10,
   "id": "84e43d82",
   "metadata": {},
   "outputs": [
    {
     "name": "stdout",
     "output_type": "stream",
     "text": [
      "+-----------+---+\n",
      "|hour_window|cnt|\n",
      "+-----------+---+\n",
      "|        0-4|  2|\n",
      "+-----------+---+\n",
      "only showing top 1 row\n",
      "\n"
     ]
    }
   ],
   "source": [
    "# Выведите временной промежуток на основе предыдущего задания, в течение которого было больше всего активностей на сайте.\n",
    "\n",
    "df.groupBy('hour_window').agg(F.count('hour_window').alias(\"cnt\")) \\\n",
    "    .orderBy(F.col(\"cnt\").desc()) \\\n",
    "    .show(1)"
   ]
  },
  {
   "cell_type": "code",
   "execution_count": 11,
   "id": "1e61c3b7",
   "metadata": {},
   "outputs": [],
   "source": [
    "schema = T.StructType([\n",
    "                T.StructField(\"Id\", T.IntegerType(), False),\n",
    "                T.StructField(\"User_id\", T.IntegerType(), False),    \n",
    "                T.StructField(\"Full_name\", T.StringType(), True),\n",
    "                T.StructField(\"Create_date\", T.DateType(), True)\n",
    "])\n",
    "\n",
    "data = [(1, 1, 'Логинов Алексей Алексеевич', datetime.datetime.strptime('1999-04-01', \"%Y-%m-%d\").date()),\n",
    "        (2, 2, 'Калугин Максим Львович', datetime.datetime.strptime('1999-05-19', \"%Y-%m-%d\").date()),\n",
    "        (3, 3, 'Кудрявцева Варвара Денисовна', datetime.datetime.strptime('1999-09-05', \"%Y-%m-%d\").date()),\n",
    "        (4, 4, 'Титова Василиса Сергеевна', datetime.datetime.strptime('1999-12-01', \"%Y-%m-%d\").date()),\n",
    "        (5, 5, 'Смирнова Екатерина Львовна', datetime.datetime.strptime('1999-01-01', \"%Y-%m-%d\").date())\n",
    "]\n",
    "\n",
    "df2 = spark.createDataFrame(data = data, schema = schema)"
   ]
  },
  {
   "cell_type": "code",
   "execution_count": 12,
   "id": "eb1a26ae",
   "metadata": {},
   "outputs": [
    {
     "name": "stdout",
     "output_type": "stream",
     "text": [
      "+--------------------------+\n",
      "|Full_name                 |\n",
      "+--------------------------+\n",
      "|Логинов Алексей Алексеевич|\n",
      "+--------------------------+\n",
      "\n"
     ]
    }
   ],
   "source": [
    "# Вывести фамилии посетителей, которые читали хотя бы одну новость про спорт.\n",
    "\n",
    "(\n",
    "    df\n",
    "    .filter(F.array_contains(F.col(\"tag\"), \"спорт\"))\n",
    "    .join(df2, df.id == df2.User_id, 'inner')\n",
    "    .select(df2.Full_name)\n",
    "    .distinct()\n",
    "    .show(truncate = False)\n",
    ")"
   ]
  },
  {
   "cell_type": "code",
   "execution_count": 13,
   "id": "6936882c",
   "metadata": {},
   "outputs": [
    {
     "name": "stdout",
     "output_type": "stream",
     "text": [
      "+----+-------------------+-----------+\n",
      "|diff|         visit_date|Create_date|\n",
      "+----+-------------------+-----------+\n",
      "| 275|2000-01-01 02:42:37| 1999-04-01|\n",
      "+----+-------------------+-----------+\n",
      "\n"
     ]
    }
   ],
   "source": [
    "# Выведите 10% ЛК, у которых максимальная разница между датой создания ЛК и датой последнего посещения.\n",
    "\n",
    "total = df.join(df2, df.page_id == df2.Id, 'inner').count()\n",
    " \n",
    "(\n",
    "    df\n",
    "    .filter(F.col('type') == 'visit')\n",
    "    .join(df2, df.page_id == df2.Id, 'inner')\n",
    "    .withColumn('diff', F.datediff(F.from_unixtime(F.col(\"timestamp\")), F.col(\"Create_date\")))\n",
    "    .select('diff', F.from_unixtime(F.col(\"timestamp\")).alias('visit_date'), \"Create_date\")\n",
    "    .orderBy(F.col(\"diff\").desc())\n",
    "    .show(math.ceil(total * 10 / 100))\n",
    ")\n"
   ]
  },
  {
   "cell_type": "code",
   "execution_count": 14,
   "id": "452dfb02",
   "metadata": {},
   "outputs": [
    {
     "name": "stdout",
     "output_type": "stream",
     "text": [
      "+-------+---+\n",
      "|User_id|cnt|\n",
      "+-------+---+\n",
      "|      1|  2|\n",
      "+-------+---+\n",
      "\n"
     ]
    }
   ],
   "source": [
    "# Вывести топ-5 страниц, которые чаще всего посещают мужчины и топ-5 страниц, которые посещают чаще женщины.\n",
    "\n",
    "from SlavicNames.parse_fio import gender_parse\n",
    "\n",
    "def get_gender(name):\n",
    "    return gender_parse(name).get('gender')\n",
    "\n",
    "getGenderUDF = F.udf(lambda h: get_gender(h))\n",
    "\n",
    "(\n",
    "    df\n",
    "    .join(df2.withColumn('gender', getGenderUDF(F.col('Full_name'))), df.id == df2.User_id, 'inner')\n",
    "    .filter(F.col('gender') == 'm')\n",
    "    .groupBy(df2.User_id)\n",
    "    .agg(F.count(df2.User_id).alias(\"cnt\"))\n",
    "    .orderBy(F.col(\"cnt\").desc())\n",
    "    .show(5)    \n",
    ")\n",
    "\n",
    "# аналогично для женщин\n"
   ]
  },
  {
   "cell_type": "code",
   "execution_count": 15,
   "id": "836b8d2b",
   "metadata": {},
   "outputs": [
    {
     "name": "stdout",
     "output_type": "stream",
     "text": [
      "+---+---------+------+-------+-----------------+-----+----+-----------+\n",
      "| id|timestamp|  type|page_id|              tag| sign|hour|hour_window|\n",
      "+---+---------+------+-------+-----------------+-----+----+-----------+\n",
      "|  1|946683757| visit|      1|[политика, спорт]| true|   2|        0-4|\n",
      "|  1|946687357| click|      2|          [спорт]| true|   3|        0-4|\n",
      "|  3|946784557|scroll|      3|       [медицина]| true|   6|        4-8|\n",
      "|  4|946975357|  move|      3|       [медицина]|false|  11|       8-12|\n",
      "+---+---------+------+-------+-----------------+-----+----+-----------+\n",
      "\n",
      "+---+-------+--------------------+-----------+\n",
      "| Id|User_id|           Full_name|Create_date|\n",
      "+---+-------+--------------------+-----------+\n",
      "|  1|      1|Логинов Алексей А...| 1999-04-01|\n",
      "|  2|      2|Калугин Максим Ль...| 1999-05-19|\n",
      "|  3|      3|Кудрявцева Варвар...| 1999-09-05|\n",
      "|  4|      4|Титова Василиса С...| 1999-12-01|\n",
      "|  5|      5|Смирнова Екатерин...| 1999-01-01|\n",
      "+---+-------+--------------------+-----------+\n",
      "\n"
     ]
    },
    {
     "data": {
      "text/plain": [
       "(None, None)"
      ]
     },
     "execution_count": 15,
     "metadata": {},
     "output_type": "execute_result"
    }
   ],
   "source": [
    "df.show(), df2.show()"
   ]
  },
  {
   "cell_type": "code",
   "execution_count": null,
   "id": "ce6f5790",
   "metadata": {},
   "outputs": [],
   "source": []
  }
 ],
 "metadata": {
  "kernelspec": {
   "display_name": "Python 3 (ipykernel)",
   "language": "python",
   "name": "python3"
  },
  "language_info": {
   "codemirror_mode": {
    "name": "ipython",
    "version": 3
   },
   "file_extension": ".py",
   "mimetype": "text/x-python",
   "name": "python",
   "nbconvert_exporter": "python",
   "pygments_lexer": "ipython3",
   "version": "3.10.6"
  }
 },
 "nbformat": 4,
 "nbformat_minor": 5
}
